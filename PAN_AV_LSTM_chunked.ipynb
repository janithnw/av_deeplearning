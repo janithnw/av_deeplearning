{
 "cells": [
  {
   "cell_type": "code",
   "execution_count": 1,
   "metadata": {},
   "outputs": [],
   "source": [
    "import pickle\n",
    "import numpy as np\n",
    "from tqdm.notebook import trange, tqdm\n",
    "import json\n",
    "from sklearn.metrics import roc_curve, auc\n",
    "from features import get_transformer, merge_entries\n",
    "from utills import chunker, get_num_chunks, cartesian_product\n",
    "import sys\n",
    "%matplotlib inline\n",
    "import matplotlib.pyplot as plt\n",
    "from nltk.tag.perceptron import PerceptronTagger"
   ]
  },
  {
   "cell_type": "code",
   "execution_count": 2,
   "metadata": {},
   "outputs": [],
   "source": [
    "import torch\n",
    "import torch.nn as nn\n",
    "import torch.nn.functional as F"
   ]
  },
  {
   "cell_type": "code",
   "execution_count": 3,
   "metadata": {},
   "outputs": [],
   "source": [
    "DATA_DIR = 'data/pan/'\n",
    "GROUND_TRUTH_PATH = DATA_DIR + 'pan20-authorship-verification-training-large-truth.jsonl'\n",
    "PREPROCESSED_DATA_PATH = '/scratch/jnw301/av_public/temp_data/pan/'\n",
    "# TEMP_DATA_PATH = 'temp_data/pan/'\n",
    "TEMP_DATA_PATH = '/scratch/jnw301/av_public/temp_data/pan/split_models/'"
   ]
  },
  {
   "cell_type": "code",
   "execution_count": 4,
   "metadata": {},
   "outputs": [],
   "source": [
    "ground_truth = {}\n",
    "with open(GROUND_TRUTH_PATH, 'r') as f:\n",
    "    for l in f:\n",
    "        d = json.loads(l)\n",
    "        ground_truth[d['id']] = d['same']"
   ]
  },
  {
   "cell_type": "code",
   "execution_count": 18,
   "metadata": {},
   "outputs": [
    {
     "data": {
      "application/vnd.jupyter.widget-view+json": {
       "model_id": "34aeba2383f5410f8893e6a119530647",
       "version_major": 2,
       "version_minor": 0
      },
      "text/plain": [
       "  0%|          | 0/193536 [00:00<?, ?it/s]"
      ]
     },
     "metadata": {},
     "output_type": "display_data"
    }
   ],
   "source": [
    "# x_path_1 = TEMP_DATA_PATH + 'pos_token_ids_1_train.npy'\n",
    "# x_path_2 = TEMP_DATA_PATH + 'pos_token_ids_2_train.npy'\n",
    "# preprocessed_path = PREPROCESSED_DATA_PATH + 'preprocessed_train.jsonl'\n",
    "# ordered_idxs = train_idxs\n",
    "# tag_2_idx = tag_2_idx\n",
    "# vector_sz = train_sz\n",
    "# chunk_sz=5\n",
    "\n",
    "# author_bounds = {}\n",
    "# total_recs = 0\n",
    "# with open(preprocessed_path, 'r') as f:\n",
    "#     for l in tqdm(f, total=vector_sz):\n",
    "#         d = json.loads(l)\n",
    "#         n_doc1_chunks = get_num_chunks(d['pair'][0], chunk_sz)\n",
    "#         n_doc2_chunks = get_num_chunks(d['pair'][1], chunk_sz)\n",
    "        \n",
    "#         author_bounds[d['id'] + '_1'] = (total_recs, total_recs + n_doc1_chunks)\n",
    "#         total_recs += n_doc1_chunks\n",
    "        \n",
    "#         author_bounds[d['id'] + '_2'] = (total_recs, total_recs + n_doc2_chunks)\n",
    "#         total_recs += n_doc2_chunks\n",
    "# max_seq_len"
   ]
  },
  {
   "cell_type": "code",
   "execution_count": 25,
   "metadata": {},
   "outputs": [
    {
     "data": {
      "application/vnd.jupyter.widget-view+json": {
       "model_id": "36fbf6f1021b494aa698b03836d0ea03",
       "version_major": 2,
       "version_minor": 0
      },
      "text/plain": [
       "  0%|          | 0/193536 [00:00<?, ?it/s]"
      ]
     },
     "metadata": {},
     "output_type": "display_data"
    }
   ],
   "source": [
    "# max_seq_len = 650\n",
    "# pos_token_ids = np.memmap(x_path_1, dtype='int32', mode='w+', shape=(total_recs, max_seq_len))\n",
    "\n",
    "# with open(preprocessed_path, 'r') as f:\n",
    "#     for l in tqdm(f, total=vector_sz):\n",
    "#         d = json.loads(l)\n",
    "\n",
    "#         s, e = author_bounds[d['id'] + '_1']\n",
    "#         docs_merged_1 = [merge_entries(c) for c in list(chunker(d['pair'][0], chunk_sz))]\n",
    "#         for i in range(len(docs_merged_1)):\n",
    "#             doc = docs_merged_1[i]\n",
    "#             for j, tag in enumerate(doc['pos_tags'][:max_seq_len]):\n",
    "#                 pos_token_ids[s + i, j] = tag_2_idx[tag]\n",
    "        \n",
    "#         s, e = author_bounds[d['id'] + '_2']\n",
    "#         docs_merged_2 = [merge_entries(c) for c in list(chunker(d['pair'][1], chunk_sz))]\n",
    "#         for i in range(len(docs_merged_2)):\n",
    "#             doc = docs_merged_2[i]\n",
    "#             for j, tag in enumerate(doc['pos_tags'][:max_seq_len]):\n",
    "#                 pos_token_ids[s + i, j] = tag_2_idx[tag]"
   ]
  },
  {
   "cell_type": "code",
   "execution_count": null,
   "metadata": {},
   "outputs": [],
   "source": [
    "# with open(TEMP_DATA_PATH + 'experiment_data_5.p', 'rb') as f:\n",
    "#     (\n",
    "#             aucs,\n",
    "#             clf,\n",
    "#             roc_auc,\n",
    "#             transformer, \n",
    "#             scaler,\n",
    "#             secondary_scaler,\n",
    "#             feature_sz,\n",
    "#             train_sz,\n",
    "#             train_idxs,\n",
    "#             test_sz,\n",
    "#             test_idxs\n",
    "#     ) = pickle.load(f)"
   ]
  },
  {
   "cell_type": "code",
   "execution_count": 5,
   "metadata": {},
   "outputs": [],
   "source": [
    "tagger = PerceptronTagger()\n",
    "tagset = list(tagger.classes)\n",
    "tag_2_idx = {t:i for i, t in enumerate(tagset)}\n",
    "idx_2_tag = {i:t for i, t in enumerate(tagset)}\n"
   ]
  },
  {
   "cell_type": "code",
   "execution_count": 6,
   "metadata": {},
   "outputs": [],
   "source": [
    "def encode_pos_tags(x_path, preprocessed_path, tag_2_idx, vector_sz, chunk_sz, max_seq_len):\n",
    "    \n",
    "    author_bounds = {}\n",
    "    total_recs = 0\n",
    "    i = 0\n",
    "    with open(preprocessed_path, 'r') as f:\n",
    "        for l in tqdm(f, total=vector_sz):\n",
    "            d = json.loads(l)\n",
    "            n_doc1_chunks = get_num_chunks(d['pair'][0], chunk_sz)\n",
    "            n_doc2_chunks = get_num_chunks(d['pair'][1], chunk_sz)\n",
    "\n",
    "            author_bounds[d['id'] + '_1'] = (total_recs, total_recs + n_doc1_chunks)\n",
    "            total_recs += n_doc1_chunks\n",
    "\n",
    "            author_bounds[d['id'] + '_2'] = (total_recs, total_recs + n_doc2_chunks)\n",
    "            total_recs += n_doc2_chunks\n",
    "            i += 1\n",
    "#             if i > 1000:\n",
    "#                 break\n",
    "            \n",
    "    pos_token_ids = np.memmap(x_path, dtype='int32', mode='w+', shape=(total_recs, max_seq_len))\n",
    "    count = 0\n",
    "    with open(preprocessed_path, 'r') as f:\n",
    "        for l in tqdm(f, total=vector_sz):\n",
    "            d = json.loads(l)\n",
    "\n",
    "            s, e = author_bounds[d['id'] + '_1']\n",
    "            docs_merged_1 = [merge_entries(c) for c in list(chunker(d['pair'][0], chunk_sz))]\n",
    "            for i in range(len(docs_merged_1)):\n",
    "                doc = docs_merged_1[i]\n",
    "                for j, tag in enumerate(doc['pos_tags'][:max_seq_len]):\n",
    "                    pos_token_ids[s + i, j] = tag_2_idx[tag]\n",
    "\n",
    "            s, e = author_bounds[d['id'] + '_2']\n",
    "            docs_merged_2 = [merge_entries(c) for c in list(chunker(d['pair'][1], chunk_sz))]\n",
    "            for i in range(len(docs_merged_2)):\n",
    "                doc = docs_merged_2[i]\n",
    "                for j, tag in enumerate(doc['pos_tags'][:max_seq_len]):\n",
    "                    pos_token_ids[s + i, j] = tag_2_idx[tag]\n",
    "            count +=1 \n",
    "#             if count > 1000:\n",
    "#                 break\n",
    "    return pos_token_ids, author_bounds, total_recs"
   ]
  },
  {
   "cell_type": "code",
   "execution_count": 8,
   "metadata": {},
   "outputs": [
    {
     "data": {
      "application/vnd.jupyter.widget-view+json": {
       "model_id": "cf282d3ab20241bd824598ed8630fae8",
       "version_major": 2,
       "version_minor": 0
      },
      "text/plain": [
       "  0%|          | 0/193536 [00:00<?, ?it/s]"
      ]
     },
     "metadata": {},
     "output_type": "display_data"
    },
    {
     "data": {
      "application/vnd.jupyter.widget-view+json": {
       "model_id": "d0af33409fdb4de881afd01f35333f74",
       "version_major": 2,
       "version_minor": 0
      },
      "text/plain": [
       "  0%|          | 0/193536 [00:00<?, ?it/s]"
      ]
     },
     "metadata": {},
     "output_type": "display_data"
    },
    {
     "data": {
      "application/vnd.jupyter.widget-view+json": {
       "model_id": "3cf9359d1cdc492ebaedbaf9163e39e4",
       "version_major": 2,
       "version_minor": 0
      },
      "text/plain": [
       "  0%|          | 0/81963 [00:00<?, ?it/s]"
      ]
     },
     "metadata": {},
     "output_type": "display_data"
    },
    {
     "data": {
      "application/vnd.jupyter.widget-view+json": {
       "model_id": "9cdabe647c884e8481509bcdda77bdc5",
       "version_major": 2,
       "version_minor": 0
      },
      "text/plain": [
       "  0%|          | 0/81963 [00:00<?, ?it/s]"
      ]
     },
     "metadata": {},
     "output_type": "display_data"
    }
   ],
   "source": [
    "# max_seq_length = 650\n",
    "# chunk_sz = 5\n",
    "\n",
    "# pos_train, author_bounds_train, total_recs_train = encode_pos_tags(\n",
    "#     TEMP_DATA_PATH + 'pos_token_ids_train.npy',\n",
    "#     PREPROCESSED_DATA_PATH + 'preprocessed_train.jsonl',\n",
    "#     tag_2_idx,\n",
    "#     train_sz,\n",
    "#     chunk_sz,\n",
    "#     max_seq_length\n",
    "# )\n",
    "\n",
    "# pos_test, author_bounds_test, total_recs_test = encode_pos_tags(\n",
    "#     TEMP_DATA_PATH + 'pos_token_ids_test.npy',\n",
    "#     PREPROCESSED_DATA_PATH + 'preprocessed_test.jsonl',\n",
    "#     tag_2_idx,\n",
    "#     test_sz,\n",
    "#     chunk_sz,\n",
    "#     max_seq_length\n",
    "# )\n",
    "\n",
    "# with open(TEMP_DATA_PATH + 'lstm_experiment_data.p', 'wb') as f:\n",
    "#     pickle.dump((author_bounds_train, total_recs_train, author_bounds_test, total_recs_test, chunk_sz, max_seq_length), f)\n",
    "    "
   ]
  },
  {
   "cell_type": "code",
   "execution_count": 7,
   "metadata": {},
   "outputs": [],
   "source": [
    "with open(TEMP_DATA_PATH + 'lstm_experiment_data.p', 'rb') as f:\n",
    "    (author_bounds_train, total_recs_train, author_bounds_test, total_recs_test, chunk_sz, max_seq_length) = pickle.load(f)"
   ]
  },
  {
   "cell_type": "code",
   "execution_count": 8,
   "metadata": {},
   "outputs": [],
   "source": [
    "train_ids = list(set([k[:-2] for k in author_bounds_train.keys()]))\n",
    "test_ids = list(set([k[:-2] for k in author_bounds_test.keys()]))"
   ]
  },
  {
   "cell_type": "code",
   "execution_count": 9,
   "metadata": {},
   "outputs": [],
   "source": [
    "class PANDChunkedataset(torch.utils.data.Dataset):\n",
    "    def __init__(self, x_path, author_bounds,  ground_truth, dataset_ids, total_recs, max_seq_len, max_records=None):\n",
    "        self.XX = np.memmap(x_path, dtype='int32', mode='r', shape=(total_recs, max_seq_len))\n",
    "\n",
    "        self.X_idxs = []\n",
    "        self.Y = []\n",
    "\n",
    "        i = 0\n",
    "        for d_id in dataset_ids:\n",
    "            s_1, e_1 = author_bounds[d_id + '_1']\n",
    "            s_2, e_2 = author_bounds[d_id + '_2']\n",
    "            label = ground_truth[d_id]\n",
    "            idxs = cartesian_product(range(s_1, e_1), range(s_2, e_2))\n",
    "            self.X_idxs.extend(idxs)\n",
    "            self.Y.extend([label] * len(idxs))\n",
    "\n",
    "        self.X_idxs = np.array(self.X_idxs)\n",
    "        self.Y = np.array(self.Y).astype(int)\n",
    "        p = np.random.permutation(len(self.Y))\n",
    "        self.X_idxs = self.X_idxs[p]\n",
    "        self.Y = self.Y[p]\n",
    "        if max_records:\n",
    "            self.X_idxs = self.X_idxs[:max_records]\n",
    "            self.Y = self.Y[:max_records]\n",
    "        \n",
    "    def __getitem__(self, index):\n",
    "        i, j = self.X_idxs[index]\n",
    "\n",
    "        return np.array(self.XX[i]), np.array(self.XX[j]), self.Y[index].astype('float32')\n",
    "\n",
    "    def __len__(self):\n",
    "        return len(self.Y)"
   ]
  },
  {
   "cell_type": "code",
   "execution_count": 10,
   "metadata": {},
   "outputs": [],
   "source": [
    "train = PANDChunkedataset(TEMP_DATA_PATH + 'pos_token_ids_train.npy', author_bounds_train, ground_truth, train_ids, total_recs_train, max_seq_length, max_records=500000)\n",
    "# train_loader = torch.utils.data.DataLoader(train, batch_size=64, shuffle=False, sampler= torch.utils.data.SubsetRandomSampler(\n",
    "#         torch.randint(high=len(train), size=(500000,))\n",
    "#     ))\n",
    "train_loader = torch.utils.data.DataLoader(train, batch_size=64, shuffle=False)\n",
    "\n",
    "test = PANDChunkedataset(TEMP_DATA_PATH + 'pos_token_ids_test.npy', author_bounds_test, ground_truth, test_ids, total_recs_test, max_seq_length, max_records=50000)\n",
    "# test_loader = torch.utils.data.DataLoader(test, batch_size=64, shuffle=False, sampler= torch.utils.data.SubsetRandomSampler(\n",
    "#         torch.randint(high=len(test), size=(10000,))\n",
    "#     ))\n",
    "test_loader = torch.utils.data.DataLoader(test, batch_size=64, shuffle=False)"
   ]
  },
  {
   "cell_type": "code",
   "execution_count": 11,
   "metadata": {},
   "outputs": [],
   "source": [
    "class AV_Model(nn.Module):\n",
    "    def __init__(self, vocab_size, embedding_dim, hidden_dim, n_layers, output_dim):\n",
    "        super().__init__()\n",
    "        self.embedding = nn.Embedding(vocab_size,embedding_dim)\n",
    "        self.lstm = nn.LSTM(\n",
    "                        embedding_dim,\n",
    "                        hidden_dim,\n",
    "                        num_layers=n_layers,\n",
    "                        bidirectional=True,\n",
    "#                         dropout = dropout,\n",
    "                        batch_first = True\n",
    "                    )\n",
    "        self.fc_1 = nn.Linear(hidden_dim * 2, output_dim)\n",
    "        self.bn = nn.BatchNorm1d(output_dim)\n",
    "        self.fc = nn.Linear(output_dim, 1)\n",
    "    \n",
    "    def forward_once(self, x):\n",
    "        x = model.embedding(x)\n",
    "        packed_output,(hidden_state,cell_state) = model.lstm(x)\n",
    "        hidden = torch.cat((hidden_state[-2,:,:], hidden_state[-1,:,:]), dim = 1)\n",
    "        output = self.fc_1(hidden)\n",
    "        return output\n",
    "    \n",
    "    def forward(self, x1, x2):\n",
    "        x1 = self.forward_once(x1)\n",
    "        x2 = self.forward_once(x2)\n",
    "        x = self.bn(torch.abs(x1 - x2))\n",
    "        \n",
    "        x = torch.sigmoid(self.fc(x))\n",
    "        \n",
    "        return x"
   ]
  },
  {
   "cell_type": "code",
   "execution_count": null,
   "metadata": {
    "scrolled": true
   },
   "outputs": [
    {
     "name": "stdout",
     "output_type": "stream",
     "text": [
      "cuda\n"
     ]
    },
    {
     "data": {
      "application/vnd.jupyter.widget-view+json": {
       "model_id": "6e7adc5ee07c4cd18dd74d634de9c502",
       "version_major": 2,
       "version_minor": 0
      },
      "text/plain": [
       "  0%|          | 0/7813 [00:00<?, ?it/s]"
      ]
     },
     "metadata": {},
     "output_type": "display_data"
    },
    {
     "name": "stdout",
     "output_type": "stream",
     "text": [
      "Epoch 1 \t Training Loss: 0.6918445828475767 \t Validation Loss: 0.6876330002189597 \t AUC: 0.553189746006158\n"
     ]
    },
    {
     "data": {
      "application/vnd.jupyter.widget-view+json": {
       "model_id": "b5b22cbedb944ac79723b81dda9cb888",
       "version_major": 2,
       "version_minor": 0
      },
      "text/plain": [
       "  0%|          | 0/7813 [00:00<?, ?it/s]"
      ]
     },
     "metadata": {},
     "output_type": "display_data"
    },
    {
     "name": "stdout",
     "output_type": "stream",
     "text": [
      "Epoch 2 \t Training Loss: 0.6853539934464091 \t Validation Loss: 0.6858158778504032 \t AUC: 0.5629438033259789\n"
     ]
    },
    {
     "data": {
      "application/vnd.jupyter.widget-view+json": {
       "model_id": "41017009dc144726896b2dd94c93d838",
       "version_major": 2,
       "version_minor": 0
      },
      "text/plain": [
       "  0%|          | 0/7813 [00:00<?, ?it/s]"
      ]
     },
     "metadata": {},
     "output_type": "display_data"
    },
    {
     "name": "stdout",
     "output_type": "stream",
     "text": [
      "Epoch 3 \t Training Loss: 0.6840098040762744 \t Validation Loss: 0.6854778725625305 \t AUC: 0.5647725937552923\n"
     ]
    },
    {
     "data": {
      "application/vnd.jupyter.widget-view+json": {
       "model_id": "84d797a752cd4d36825e41be5686276a",
       "version_major": 2,
       "version_minor": 0
      },
      "text/plain": [
       "  0%|          | 0/7813 [00:00<?, ?it/s]"
      ]
     },
     "metadata": {},
     "output_type": "display_data"
    },
    {
     "name": "stdout",
     "output_type": "stream",
     "text": [
      "Epoch 4 \t Training Loss: 0.6833014689089317 \t Validation Loss: 0.6852684507284628 \t AUC: 0.5660100726824894\n"
     ]
    },
    {
     "data": {
      "application/vnd.jupyter.widget-view+json": {
       "model_id": "d97310d0c28f4457ac920aafb290cd39",
       "version_major": 2,
       "version_minor": 0
      },
      "text/plain": [
       "  0%|          | 0/7813 [00:00<?, ?it/s]"
      ]
     },
     "metadata": {},
     "output_type": "display_data"
    },
    {
     "name": "stdout",
     "output_type": "stream",
     "text": [
      "Epoch 5 \t Training Loss: 0.6827322980986199 \t Validation Loss: 0.6851930685360413 \t AUC: 0.5665930262717777\n"
     ]
    },
    {
     "data": {
      "application/vnd.jupyter.widget-view+json": {
       "model_id": "6de9e2f65f7744e19e2d1327434461a4",
       "version_major": 2,
       "version_minor": 0
      },
      "text/plain": [
       "  0%|          | 0/7813 [00:00<?, ?it/s]"
      ]
     },
     "metadata": {},
     "output_type": "display_data"
    },
    {
     "name": "stdout",
     "output_type": "stream",
     "text": [
      "Epoch 6 \t Training Loss: 0.6822056622247636 \t Validation Loss: 0.6851655348487522 \t AUC: 0.566735566471798\n"
     ]
    },
    {
     "data": {
      "application/vnd.jupyter.widget-view+json": {
       "model_id": "72af4f43ba9a46409548d48b77fa2c05",
       "version_major": 2,
       "version_minor": 0
      },
      "text/plain": [
       "  0%|          | 0/7813 [00:00<?, ?it/s]"
      ]
     },
     "metadata": {},
     "output_type": "display_data"
    }
   ],
   "source": [
    "model = AV_Model(len(tag_2_idx), 256, 128, 1, 32)\n",
    "device = torch.device('cuda' if torch.cuda.is_available() else 'cpu')\n",
    "print(device)\n",
    "criterion = nn.BCELoss()\n",
    "optimizer = torch.optim.Adam(model.parameters(), lr=0.00001)\n",
    "#initialize empty list to track batch losses\n",
    "train_losses = []\n",
    "validation_losses = []\n",
    "aucs = []\n",
    "model.to(device)\n",
    "\n",
    "for epoch in range(40):\n",
    "    model.train()\n",
    "    train_loss = 0.0\n",
    "    for x1, x2, y in tqdm(train_loader):\n",
    "        x1, x2, y = x1.to(device), x2.to(device), y.to(device)\n",
    "        y = y.reshape(-1, 1)\n",
    "        optimizer.zero_grad()\n",
    "        \n",
    "        out = model(x1, x2)\n",
    "        loss = criterion(out, y)\n",
    "        \n",
    "        train_loss += loss.item()\n",
    "        \n",
    "        loss.backward()\n",
    "        optimizer.step()\n",
    "        \n",
    "    valid_loss = 0.0\n",
    "    model.eval()     # Optional when not using Model Specific layer\n",
    "    \n",
    "    preds = []\n",
    "    labels = []\n",
    "    for x1, x2, y in test_loader:\n",
    "        x1, x2, y = x1.to(device), x2.to(device), y.to(device)\n",
    "        y = y.reshape(-1, 1)\n",
    "        out = model(x1, x2)\n",
    "        loss = criterion(out, y)\n",
    "        valid_loss += loss.item()\n",
    "        \n",
    "        out = out.reshape(-1).tolist()\n",
    "        y = y.reshape(-1).tolist()\n",
    "        preds.extend(out)\n",
    "        labels.extend(y)\n",
    "    fpr, tpr, thresh = roc_curve(labels, preds)\n",
    "    roc_auc = auc(fpr, tpr)\n",
    "    aucs.append(roc_auc)\n",
    "    train_losses.append(train_loss / len(train_loader))\n",
    "    validation_losses.append(valid_loss / len(test_loader))\n",
    "    print(f'Epoch {epoch+1} \\t Training Loss: {train_loss / len(train_loader)} \\t Validation Loss: {valid_loss / len(test_loader)} \\t AUC: {roc_auc}')\n",
    "    torch.save(model, TEMP_DATA_PATH + 'pytorch_model.pt')"
   ]
  },
  {
   "cell_type": "code",
   "execution_count": 16,
   "metadata": {},
   "outputs": [
    {
     "data": {
      "text/plain": [
       "tensor([[0.2846],\n",
       "        [0.7243],\n",
       "        [0.5384],\n",
       "        [0.4455],\n",
       "        [0.1313],\n",
       "        [0.6846],\n",
       "        [0.3656],\n",
       "        [0.3979],\n",
       "        [0.6002],\n",
       "        [0.3653],\n",
       "        [0.3865],\n",
       "        [0.5847],\n",
       "        [0.6461],\n",
       "        [0.4647],\n",
       "        [0.5405],\n",
       "        [0.3456],\n",
       "        [0.6744],\n",
       "        [0.6547],\n",
       "        [0.5113],\n",
       "        [0.5158],\n",
       "        [0.6351],\n",
       "        [0.6446],\n",
       "        [0.5817],\n",
       "        [0.1201],\n",
       "        [0.4725],\n",
       "        [0.2916],\n",
       "        [0.4091],\n",
       "        [0.5745],\n",
       "        [0.5372],\n",
       "        [0.4536],\n",
       "        [0.5118],\n",
       "        [0.6821],\n",
       "        [0.6822],\n",
       "        [0.6144],\n",
       "        [0.4119],\n",
       "        [0.5176],\n",
       "        [0.6836],\n",
       "        [0.5931],\n",
       "        [0.5423],\n",
       "        [0.6001],\n",
       "        [0.5787],\n",
       "        [0.7155],\n",
       "        [0.5567],\n",
       "        [0.6305],\n",
       "        [0.6547],\n",
       "        [0.4369],\n",
       "        [0.4517],\n",
       "        [0.5584],\n",
       "        [0.6661],\n",
       "        [0.5751],\n",
       "        [0.4505],\n",
       "        [0.3133],\n",
       "        [0.6708],\n",
       "        [0.4430],\n",
       "        [0.4529],\n",
       "        [0.4447],\n",
       "        [0.6683],\n",
       "        [0.6117],\n",
       "        [0.6928],\n",
       "        [0.6574],\n",
       "        [0.6242],\n",
       "        [0.4981],\n",
       "        [0.4685],\n",
       "        [0.5774],\n",
       "        [0.6300],\n",
       "        [0.4872],\n",
       "        [0.5475],\n",
       "        [0.1441],\n",
       "        [0.3466],\n",
       "        [0.5051],\n",
       "        [0.6261],\n",
       "        [0.3646],\n",
       "        [0.6509],\n",
       "        [0.6409],\n",
       "        [0.5443],\n",
       "        [0.6140],\n",
       "        [0.6143],\n",
       "        [0.3828],\n",
       "        [0.5690],\n",
       "        [0.2621],\n",
       "        [0.4266],\n",
       "        [0.5916],\n",
       "        [0.6671],\n",
       "        [0.6441],\n",
       "        [0.4533],\n",
       "        [0.6165],\n",
       "        [0.3720],\n",
       "        [0.3216],\n",
       "        [0.6414],\n",
       "        [0.7887],\n",
       "        [0.6825],\n",
       "        [0.6164],\n",
       "        [0.4671],\n",
       "        [0.5212],\n",
       "        [0.6949],\n",
       "        [0.4209],\n",
       "        [0.6347],\n",
       "        [0.4549],\n",
       "        [0.3938],\n",
       "        [0.6103],\n",
       "        [0.4686],\n",
       "        [0.2211],\n",
       "        [0.4396],\n",
       "        [0.5323],\n",
       "        [0.3562],\n",
       "        [0.6360],\n",
       "        [0.4681],\n",
       "        [0.6423],\n",
       "        [0.6950],\n",
       "        [0.6941],\n",
       "        [0.4755],\n",
       "        [0.3171],\n",
       "        [0.2500],\n",
       "        [0.4830],\n",
       "        [0.7465],\n",
       "        [0.3177],\n",
       "        [0.6809],\n",
       "        [0.5891],\n",
       "        [0.7187],\n",
       "        [0.2789],\n",
       "        [0.4821],\n",
       "        [0.5001],\n",
       "        [0.3883],\n",
       "        [0.6668],\n",
       "        [0.6137],\n",
       "        [0.2893],\n",
       "        [0.4784],\n",
       "        [0.6574]], grad_fn=<SigmoidBackward>)"
      ]
     },
     "execution_count": 16,
     "metadata": {},
     "output_type": "execute_result"
    }
   ],
   "source": [
    "model(x1, x2)"
   ]
  },
  {
   "cell_type": "code",
   "execution_count": 18,
   "metadata": {},
   "outputs": [
    {
     "data": {
      "image/png": "[encoded data removed]",
      "text/plain": [
       "<Figure size 432x288 with 1 Axes>"
      ]
     },
     "metadata": {
      "needs_background": "light"
     },
     "output_type": "display_data"
    }
   ],
   "source": [
    "plt.plot(validation_losses, label='Validation Loss')\n",
    "plt.plot(train_losses, label='Training Loss')\n",
    "plt.legend(loc='best')\n",
    "plt.tight_layout()\n",
    "plt.show()\n",
    "# LR = 0.001, model = AV_Model(len(tag_2_idx), 32, 16, 2, 8), max_length=500"
   ]
  },
  {
   "cell_type": "code",
   "execution_count": 23,
   "metadata": {},
   "outputs": [
    {
     "data": {
      "image/png": "[encoded data removed]",
      "text/plain": [
       "<Figure size 432x288 with 1 Axes>"
      ]
     },
     "metadata": {
      "needs_background": "light"
     },
     "output_type": "display_data"
    }
   ],
   "source": [
    "plt.plot(validation_losses, label='Validation Loss')\n",
    "plt.plot(train_losses, label='Training Loss')\n",
    "plt.legend(loc='best')\n",
    "plt.tight_layout()\n",
    "plt.show()\n",
    "# LR = 0.001, model = AV_Model(len(tag_2_idx), 32, 16, 1, 8), max_length=500"
   ]
  },
  {
   "cell_type": "code",
   "execution_count": 18,
   "metadata": {},
   "outputs": [
    {
     "data": {
      "image/png": "[encoded data removed]",
      "text/plain": [
       "<Figure size 432x288 with 1 Axes>"
      ]
     },
     "metadata": {
      "needs_background": "light"
     },
     "output_type": "display_data"
    }
   ],
   "source": [
    "plt.plot(validation_losses, label='Validation Loss')\n",
    "plt.plot(train_losses, label='Training Loss')\n",
    "plt.legend(loc='best')\n",
    "plt.tight_layout()\n",
    "plt.show()\n",
    "# LR = 0.001, model = AV_Model(len(tag_2_idx), 32, 16, 1, 8)"
   ]
  },
  {
   "cell_type": "code",
   "execution_count": 21,
   "metadata": {},
   "outputs": [
    {
     "data": {
      "image/png": "[encoded data removed]",
      "text/plain": [
       "<Figure size 432x288 with 1 Axes>"
      ]
     },
     "metadata": {
      "needs_background": "light"
     },
     "output_type": "display_data"
    }
   ],
   "source": [
    "plt.plot(validation_losses, label='Validation Loss')\n",
    "plt.plot(train_losses, label='Training Loss')\n",
    "plt.legend(loc='best')\n",
    "plt.tight_layout()\n",
    "plt.show()\n",
    "# LR = 0.0001\n"
   ]
  },
  {
   "cell_type": "code",
   "execution_count": 15,
   "metadata": {},
   "outputs": [
    {
     "data": {
      "image/png": "[encoded data removed]",
      "text/plain": [
       "<Figure size 432x288 with 1 Axes>"
      ]
     },
     "metadata": {
      "needs_background": "light"
     },
     "output_type": "display_data"
    }
   ],
   "source": [
    "plt.plot(validation_losses, label='Validation Loss')\n",
    "plt.plot(train_losses, label='Training Loss')\n",
    "plt.legend(loc='best')\n",
    "plt.tight_layout()\n",
    "plt.show()\n",
    "# LR = 0.00001\n"
   ]
  },
  {
   "cell_type": "code",
   "execution_count": 19,
   "metadata": {},
   "outputs": [
    {
     "data": {
      "image/png": "[encoded data removed]",
      "text/plain": [
       "<Figure size 432x288 with 1 Axes>"
      ]
     },
     "metadata": {
      "needs_background": "light"
     },
     "output_type": "display_data"
    }
   ],
   "source": [
    "plt.plot(aucs)\n",
    "plt.show()\n",
    "# LR = 0.00001"
   ]
  },
  {
   "cell_type": "code",
   "execution_count": 11,
   "metadata": {},
   "outputs": [
    {
     "data": {
      "image/png": "[encoded data removed]",
      "text/plain": [
       "<Figure size 432x288 with 1 Axes>"
      ]
     },
     "metadata": {
      "needs_background": "light"
     },
     "output_type": "display_data"
    }
   ],
   "source": [
    "plt.plot(validation_losses, label='Validation Loss')\n",
    "plt.plot(train_losses, label='Training Loss')\n",
    "plt.legend(loc='best')\n",
    "plt.tight_layout()\n",
    "plt.show()\n",
    "# LR = 0.001\n"
   ]
  },
  {
   "cell_type": "code",
   "execution_count": 14,
   "metadata": {},
   "outputs": [
    {
     "ename": "KeyboardInterrupt",
     "evalue": "",
     "output_type": "error",
     "traceback": [
      "\u001b[0;31m---------------------------------------------------------------------------\u001b[0m",
      "\u001b[0;31mKeyboardInterrupt\u001b[0m                         Traceback (most recent call last)",
      "\u001b[0;32m<ipython-input-14-b5af187940ec>\u001b[0m in \u001b[0;36m<module>\u001b[0;34m\u001b[0m\n\u001b[1;32m      4\u001b[0m \u001b[0;32mfor\u001b[0m \u001b[0mx1\u001b[0m\u001b[0;34m,\u001b[0m \u001b[0mx2\u001b[0m\u001b[0;34m,\u001b[0m \u001b[0my\u001b[0m \u001b[0;32min\u001b[0m \u001b[0mtest_loader\u001b[0m\u001b[0;34m:\u001b[0m\u001b[0;34m\u001b[0m\u001b[0;34m\u001b[0m\u001b[0m\n\u001b[1;32m      5\u001b[0m     \u001b[0mx1\u001b[0m\u001b[0;34m,\u001b[0m \u001b[0mx2\u001b[0m\u001b[0;34m,\u001b[0m \u001b[0my\u001b[0m \u001b[0;34m=\u001b[0m \u001b[0mx1\u001b[0m\u001b[0;34m.\u001b[0m\u001b[0mto\u001b[0m\u001b[0;34m(\u001b[0m\u001b[0mdevice\u001b[0m\u001b[0;34m)\u001b[0m\u001b[0;34m,\u001b[0m \u001b[0mx2\u001b[0m\u001b[0;34m.\u001b[0m\u001b[0mto\u001b[0m\u001b[0;34m(\u001b[0m\u001b[0mdevice\u001b[0m\u001b[0;34m)\u001b[0m\u001b[0;34m,\u001b[0m \u001b[0my\u001b[0m\u001b[0;34m.\u001b[0m\u001b[0mto\u001b[0m\u001b[0;34m(\u001b[0m\u001b[0mdevice\u001b[0m\u001b[0;34m)\u001b[0m\u001b[0;34m\u001b[0m\u001b[0;34m\u001b[0m\u001b[0m\n\u001b[0;32m----> 6\u001b[0;31m     \u001b[0mout\u001b[0m \u001b[0;34m=\u001b[0m \u001b[0mmodel\u001b[0m\u001b[0;34m(\u001b[0m\u001b[0mx1\u001b[0m\u001b[0;34m,\u001b[0m \u001b[0mx2\u001b[0m\u001b[0;34m)\u001b[0m\u001b[0;34m.\u001b[0m\u001b[0mreshape\u001b[0m\u001b[0;34m(\u001b[0m\u001b[0;34m-\u001b[0m\u001b[0;36m1\u001b[0m\u001b[0;34m)\u001b[0m\u001b[0;34m.\u001b[0m\u001b[0mtolist\u001b[0m\u001b[0;34m(\u001b[0m\u001b[0;34m)\u001b[0m\u001b[0;34m\u001b[0m\u001b[0;34m\u001b[0m\u001b[0m\n\u001b[0m\u001b[1;32m      7\u001b[0m     \u001b[0my\u001b[0m \u001b[0;34m=\u001b[0m \u001b[0my\u001b[0m\u001b[0;34m.\u001b[0m\u001b[0mreshape\u001b[0m\u001b[0;34m(\u001b[0m\u001b[0;34m-\u001b[0m\u001b[0;36m1\u001b[0m\u001b[0;34m)\u001b[0m\u001b[0;34m.\u001b[0m\u001b[0mtolist\u001b[0m\u001b[0;34m(\u001b[0m\u001b[0;34m)\u001b[0m\u001b[0;34m\u001b[0m\u001b[0;34m\u001b[0m\u001b[0m\n\u001b[1;32m      8\u001b[0m     \u001b[0mpreds\u001b[0m\u001b[0;34m.\u001b[0m\u001b[0mextend\u001b[0m\u001b[0;34m(\u001b[0m\u001b[0mout\u001b[0m\u001b[0;34m)\u001b[0m\u001b[0;34m\u001b[0m\u001b[0;34m\u001b[0m\u001b[0m\n",
      "\u001b[0;32m~/.local/lib/python3.8/site-packages/torch/nn/modules/module.py\u001b[0m in \u001b[0;36m_call_impl\u001b[0;34m(self, *input, **kwargs)\u001b[0m\n\u001b[1;32m    887\u001b[0m             \u001b[0mresult\u001b[0m \u001b[0;34m=\u001b[0m \u001b[0mself\u001b[0m\u001b[0;34m.\u001b[0m\u001b[0m_slow_forward\u001b[0m\u001b[0;34m(\u001b[0m\u001b[0;34m*\u001b[0m\u001b[0minput\u001b[0m\u001b[0;34m,\u001b[0m \u001b[0;34m**\u001b[0m\u001b[0mkwargs\u001b[0m\u001b[0;34m)\u001b[0m\u001b[0;34m\u001b[0m\u001b[0;34m\u001b[0m\u001b[0m\n\u001b[1;32m    888\u001b[0m         \u001b[0;32melse\u001b[0m\u001b[0;34m:\u001b[0m\u001b[0;34m\u001b[0m\u001b[0;34m\u001b[0m\u001b[0m\n\u001b[0;32m--> 889\u001b[0;31m             \u001b[0mresult\u001b[0m \u001b[0;34m=\u001b[0m \u001b[0mself\u001b[0m\u001b[0;34m.\u001b[0m\u001b[0mforward\u001b[0m\u001b[0;34m(\u001b[0m\u001b[0;34m*\u001b[0m\u001b[0minput\u001b[0m\u001b[0;34m,\u001b[0m \u001b[0;34m**\u001b[0m\u001b[0mkwargs\u001b[0m\u001b[0;34m)\u001b[0m\u001b[0;34m\u001b[0m\u001b[0;34m\u001b[0m\u001b[0m\n\u001b[0m\u001b[1;32m    890\u001b[0m         for hook in itertools.chain(\n\u001b[1;32m    891\u001b[0m                 \u001b[0m_global_forward_hooks\u001b[0m\u001b[0;34m.\u001b[0m\u001b[0mvalues\u001b[0m\u001b[0;34m(\u001b[0m\u001b[0;34m)\u001b[0m\u001b[0;34m,\u001b[0m\u001b[0;34m\u001b[0m\u001b[0;34m\u001b[0m\u001b[0m\n",
      "\u001b[0;32m<ipython-input-12-c71d8f203f8e>\u001b[0m in \u001b[0;36mforward\u001b[0;34m(self, x1, x2)\u001b[0m\n\u001b[1;32m     23\u001b[0m \u001b[0;34m\u001b[0m\u001b[0m\n\u001b[1;32m     24\u001b[0m     \u001b[0;32mdef\u001b[0m \u001b[0mforward\u001b[0m\u001b[0;34m(\u001b[0m\u001b[0mself\u001b[0m\u001b[0;34m,\u001b[0m \u001b[0mx1\u001b[0m\u001b[0;34m,\u001b[0m \u001b[0mx2\u001b[0m\u001b[0;34m)\u001b[0m\u001b[0;34m:\u001b[0m\u001b[0;34m\u001b[0m\u001b[0;34m\u001b[0m\u001b[0m\n\u001b[0;32m---> 25\u001b[0;31m         \u001b[0mx1\u001b[0m \u001b[0;34m=\u001b[0m \u001b[0mself\u001b[0m\u001b[0;34m.\u001b[0m\u001b[0mforward_once\u001b[0m\u001b[0;34m(\u001b[0m\u001b[0mx1\u001b[0m\u001b[0;34m)\u001b[0m\u001b[0;34m\u001b[0m\u001b[0;34m\u001b[0m\u001b[0m\n\u001b[0m\u001b[1;32m     26\u001b[0m         \u001b[0mx2\u001b[0m \u001b[0;34m=\u001b[0m \u001b[0mself\u001b[0m\u001b[0;34m.\u001b[0m\u001b[0mforward_once\u001b[0m\u001b[0;34m(\u001b[0m\u001b[0mx2\u001b[0m\u001b[0;34m)\u001b[0m\u001b[0;34m\u001b[0m\u001b[0;34m\u001b[0m\u001b[0m\n\u001b[1;32m     27\u001b[0m         \u001b[0mx\u001b[0m \u001b[0;34m=\u001b[0m \u001b[0mself\u001b[0m\u001b[0;34m.\u001b[0m\u001b[0mbn\u001b[0m\u001b[0;34m(\u001b[0m\u001b[0mtorch\u001b[0m\u001b[0;34m.\u001b[0m\u001b[0mabs\u001b[0m\u001b[0;34m(\u001b[0m\u001b[0mx1\u001b[0m \u001b[0;34m-\u001b[0m \u001b[0mx2\u001b[0m\u001b[0;34m)\u001b[0m\u001b[0;34m)\u001b[0m\u001b[0;34m\u001b[0m\u001b[0;34m\u001b[0m\u001b[0m\n",
      "\u001b[0;32m<ipython-input-12-c71d8f203f8e>\u001b[0m in \u001b[0;36mforward_once\u001b[0;34m(self, x)\u001b[0m\n\u001b[1;32m     17\u001b[0m     \u001b[0;32mdef\u001b[0m \u001b[0mforward_once\u001b[0m\u001b[0;34m(\u001b[0m\u001b[0mself\u001b[0m\u001b[0;34m,\u001b[0m \u001b[0mx\u001b[0m\u001b[0;34m)\u001b[0m\u001b[0;34m:\u001b[0m\u001b[0;34m\u001b[0m\u001b[0;34m\u001b[0m\u001b[0m\n\u001b[1;32m     18\u001b[0m         \u001b[0mx\u001b[0m \u001b[0;34m=\u001b[0m \u001b[0mmodel\u001b[0m\u001b[0;34m.\u001b[0m\u001b[0membedding\u001b[0m\u001b[0;34m(\u001b[0m\u001b[0mx\u001b[0m\u001b[0;34m)\u001b[0m\u001b[0;34m\u001b[0m\u001b[0;34m\u001b[0m\u001b[0m\n\u001b[0;32m---> 19\u001b[0;31m         \u001b[0mpacked_output\u001b[0m\u001b[0;34m,\u001b[0m\u001b[0;34m(\u001b[0m\u001b[0mhidden_state\u001b[0m\u001b[0;34m,\u001b[0m\u001b[0mcell_state\u001b[0m\u001b[0;34m)\u001b[0m \u001b[0;34m=\u001b[0m \u001b[0mmodel\u001b[0m\u001b[0;34m.\u001b[0m\u001b[0mlstm\u001b[0m\u001b[0;34m(\u001b[0m\u001b[0mx\u001b[0m\u001b[0;34m)\u001b[0m\u001b[0;34m\u001b[0m\u001b[0;34m\u001b[0m\u001b[0m\n\u001b[0m\u001b[1;32m     20\u001b[0m         \u001b[0mhidden\u001b[0m \u001b[0;34m=\u001b[0m \u001b[0mtorch\u001b[0m\u001b[0;34m.\u001b[0m\u001b[0mcat\u001b[0m\u001b[0;34m(\u001b[0m\u001b[0;34m(\u001b[0m\u001b[0mhidden_state\u001b[0m\u001b[0;34m[\u001b[0m\u001b[0;34m-\u001b[0m\u001b[0;36m2\u001b[0m\u001b[0;34m,\u001b[0m\u001b[0;34m:\u001b[0m\u001b[0;34m,\u001b[0m\u001b[0;34m:\u001b[0m\u001b[0;34m]\u001b[0m\u001b[0;34m,\u001b[0m \u001b[0mhidden_state\u001b[0m\u001b[0;34m[\u001b[0m\u001b[0;34m-\u001b[0m\u001b[0;36m1\u001b[0m\u001b[0;34m,\u001b[0m\u001b[0;34m:\u001b[0m\u001b[0;34m,\u001b[0m\u001b[0;34m:\u001b[0m\u001b[0;34m]\u001b[0m\u001b[0;34m)\u001b[0m\u001b[0;34m,\u001b[0m \u001b[0mdim\u001b[0m \u001b[0;34m=\u001b[0m \u001b[0;36m1\u001b[0m\u001b[0;34m)\u001b[0m\u001b[0;34m\u001b[0m\u001b[0;34m\u001b[0m\u001b[0m\n\u001b[1;32m     21\u001b[0m         \u001b[0moutput\u001b[0m \u001b[0;34m=\u001b[0m \u001b[0mself\u001b[0m\u001b[0;34m.\u001b[0m\u001b[0mfc_1\u001b[0m\u001b[0;34m(\u001b[0m\u001b[0mhidden\u001b[0m\u001b[0;34m)\u001b[0m\u001b[0;34m\u001b[0m\u001b[0;34m\u001b[0m\u001b[0m\n",
      "\u001b[0;32m~/.local/lib/python3.8/site-packages/torch/nn/modules/module.py\u001b[0m in \u001b[0;36m_call_impl\u001b[0;34m(self, *input, **kwargs)\u001b[0m\n\u001b[1;32m    887\u001b[0m             \u001b[0mresult\u001b[0m \u001b[0;34m=\u001b[0m \u001b[0mself\u001b[0m\u001b[0;34m.\u001b[0m\u001b[0m_slow_forward\u001b[0m\u001b[0;34m(\u001b[0m\u001b[0;34m*\u001b[0m\u001b[0minput\u001b[0m\u001b[0;34m,\u001b[0m \u001b[0;34m**\u001b[0m\u001b[0mkwargs\u001b[0m\u001b[0;34m)\u001b[0m\u001b[0;34m\u001b[0m\u001b[0;34m\u001b[0m\u001b[0m\n\u001b[1;32m    888\u001b[0m         \u001b[0;32melse\u001b[0m\u001b[0;34m:\u001b[0m\u001b[0;34m\u001b[0m\u001b[0;34m\u001b[0m\u001b[0m\n\u001b[0;32m--> 889\u001b[0;31m             \u001b[0mresult\u001b[0m \u001b[0;34m=\u001b[0m \u001b[0mself\u001b[0m\u001b[0;34m.\u001b[0m\u001b[0mforward\u001b[0m\u001b[0;34m(\u001b[0m\u001b[0;34m*\u001b[0m\u001b[0minput\u001b[0m\u001b[0;34m,\u001b[0m \u001b[0;34m**\u001b[0m\u001b[0mkwargs\u001b[0m\u001b[0;34m)\u001b[0m\u001b[0;34m\u001b[0m\u001b[0;34m\u001b[0m\u001b[0m\n\u001b[0m\u001b[1;32m    890\u001b[0m         for hook in itertools.chain(\n\u001b[1;32m    891\u001b[0m                 \u001b[0m_global_forward_hooks\u001b[0m\u001b[0;34m.\u001b[0m\u001b[0mvalues\u001b[0m\u001b[0;34m(\u001b[0m\u001b[0;34m)\u001b[0m\u001b[0;34m,\u001b[0m\u001b[0;34m\u001b[0m\u001b[0;34m\u001b[0m\u001b[0m\n",
      "\u001b[0;32m~/.local/lib/python3.8/site-packages/torch/nn/modules/rnn.py\u001b[0m in \u001b[0;36mforward\u001b[0;34m(self, input, hx)\u001b[0m\n\u001b[1;32m    659\u001b[0m         \u001b[0mself\u001b[0m\u001b[0;34m.\u001b[0m\u001b[0mcheck_forward_args\u001b[0m\u001b[0;34m(\u001b[0m\u001b[0minput\u001b[0m\u001b[0;34m,\u001b[0m \u001b[0mhx\u001b[0m\u001b[0;34m,\u001b[0m \u001b[0mbatch_sizes\u001b[0m\u001b[0;34m)\u001b[0m\u001b[0;34m\u001b[0m\u001b[0;34m\u001b[0m\u001b[0m\n\u001b[1;32m    660\u001b[0m         \u001b[0;32mif\u001b[0m \u001b[0mbatch_sizes\u001b[0m \u001b[0;32mis\u001b[0m \u001b[0;32mNone\u001b[0m\u001b[0;34m:\u001b[0m\u001b[0;34m\u001b[0m\u001b[0;34m\u001b[0m\u001b[0m\n\u001b[0;32m--> 661\u001b[0;31m             result = _VF.lstm(input, hx, self._flat_weights, self.bias, self.num_layers,\n\u001b[0m\u001b[1;32m    662\u001b[0m                               self.dropout, self.training, self.bidirectional, self.batch_first)\n\u001b[1;32m    663\u001b[0m         \u001b[0;32melse\u001b[0m\u001b[0;34m:\u001b[0m\u001b[0;34m\u001b[0m\u001b[0;34m\u001b[0m\u001b[0m\n",
      "\u001b[0;31mKeyboardInterrupt\u001b[0m: "
     ]
    }
   ],
   "source": [
    "model.eval()\n",
    "preds = []\n",
    "labels = []\n",
    "for x1, x2, y in test_loader:\n",
    "    x1, x2, y = x1.to(device), x2.to(device), y.to(device)\n",
    "    out = model(x1, x2).reshape(-1).tolist()\n",
    "    y = y.reshape(-1).tolist()\n",
    "    preds.extend(out)\n",
    "    labels.extend(y)"
   ]
  },
  {
   "cell_type": "code",
   "execution_count": 15,
   "metadata": {},
   "outputs": [
    {
     "name": "stdout",
     "output_type": "stream",
     "text": [
      "AUC: 0.5699832892033204\n"
     ]
    }
   ],
   "source": [
    "fpr, tpr, thresh = roc_curve(labels, preds)\n",
    "roc_auc = auc(fpr, tpr)\n",
    "print('AUC:', roc_auc)"
   ]
  },
  {
   "cell_type": "code",
   "execution_count": 33,
   "metadata": {},
   "outputs": [],
   "source": [
    "torch.save(model, TEMP_DATA_PATH + 'pytorch_model.pt')"
   ]
  }
 ],
 "metadata": {
  "kernelspec": {
   "display_name": "Python 3",
   "language": "python",
   "name": "python3"
  },
  "language_info": {
   "codemirror_mode": {
    "name": "ipython",
    "version": 3
   },
   "file_extension": ".py",
   "mimetype": "text/x-python",
   "name": "python",
   "nbconvert_exporter": "python",
   "pygments_lexer": "ipython3",
   "version": "3.8.6"
  }
 },
 "nbformat": 4,
 "nbformat_minor": 4
}
