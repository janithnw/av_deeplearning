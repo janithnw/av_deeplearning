{
 "cells": [
  {
   "cell_type": "code",
   "execution_count": 1,
   "metadata": {},
   "outputs": [],
   "source": [
    "import pickle\n",
    "import numpy as np\n",
    "from tqdm.notebook import trange, tqdm\n",
    "import json\n",
    "from sklearn.metrics import roc_curve, auc\n",
    "from features import get_transformer, merge_entries\n",
    "import sys\n",
    "%matplotlib inline\n",
    "import matplotlib.pyplot as plt\n",
    "from nltk.tag.perceptron import PerceptronTagger"
   ]
  },
  {
   "cell_type": "code",
   "execution_count": 2,
   "metadata": {},
   "outputs": [],
   "source": [
    "import torch\n",
    "import torch.nn as nn\n",
    "import torch.nn.functional as F"
   ]
  },
  {
   "cell_type": "code",
   "execution_count": 3,
   "metadata": {},
   "outputs": [],
   "source": [
    "class PANDataset(torch.utils.data.Dataset):\n",
    "    def __init__(self, seq_1_path, seq_2_path, y_path, vector_sz, max_seq_len, limit_seq_len):\n",
    "        self.XX_1 = np.memmap(seq_1_path, dtype='int32', mode='r', shape=(vector_sz, max_seq_len))\n",
    "        self.XX_2 = np.memmap(seq_2_path, dtype='int32', mode='r', shape=(vector_sz, max_seq_len))\n",
    "        self.limit_seq_len = limit_seq_len\n",
    "        self.Y = np.memmap(y_path, dtype='int32', mode='r', shape=(vector_sz))\n",
    "\n",
    "\n",
    "    def __getitem__(self, index):\n",
    "        x_1 = np.array(self.XX_1[index, :self.limit_seq_len])\n",
    "        x_2 = np.array(self.XX_2[index, :self.limit_seq_len])\n",
    "        return x_1, x_2, np.array(self.Y[index]).astype('float32')\n",
    "\n",
    "    def __len__(self):\n",
    "        return len(self.Y)"
   ]
  },
  {
   "cell_type": "code",
   "execution_count": 4,
   "metadata": {},
   "outputs": [],
   "source": [
    "DATA_DIR = 'data/pan/'\n",
    "GROUND_TRUTH_PATH = DATA_DIR + 'pan20-authorship-verification-training-large-truth.jsonl'\n",
    "PREPROCESSED_DATA_PATH = '/scratch/jnw301/av_public/temp_data/pan/'\n",
    "# TEMP_DATA_PATH = 'temp_data/pan/'\n",
    "TEMP_DATA_PATH = '/scratch/jnw301/av_public/temp_data/pan/'"
   ]
  },
  {
   "cell_type": "code",
   "execution_count": 5,
   "metadata": {},
   "outputs": [],
   "source": [
    "ground_truth = {}\n",
    "with open(GROUND_TRUTH_PATH, 'r') as f:\n",
    "    for l in f:\n",
    "        d = json.loads(l)\n",
    "        ground_truth[d['id']] = d['same']"
   ]
  },
  {
   "cell_type": "code",
   "execution_count": 6,
   "metadata": {},
   "outputs": [
    {
     "name": "stderr",
     "output_type": "stream",
     "text": [
      "/home/jnw301/.local/lib/python3.8/site-packages/sklearn/base.py:310: UserWarning: Trying to unpickle estimator SGDClassifier from version 0.22.1 when using version 0.24.1. This might lead to breaking code or invalid results. Use at your own risk.\n",
      "  warnings.warn(\n",
      "/home/jnw301/.local/lib/python3.8/site-packages/sklearn/base.py:310: UserWarning: Trying to unpickle estimator TfidfTransformer from version 0.22.1 when using version 0.24.1. This might lead to breaking code or invalid results. Use at your own risk.\n",
      "  warnings.warn(\n",
      "/home/jnw301/.local/lib/python3.8/site-packages/sklearn/base.py:310: UserWarning: Trying to unpickle estimator TfidfVectorizer from version 0.22.1 when using version 0.24.1. This might lead to breaking code or invalid results. Use at your own risk.\n",
      "  warnings.warn(\n",
      "/home/jnw301/.local/lib/python3.8/site-packages/sklearn/base.py:310: UserWarning: Trying to unpickle estimator FeatureUnion from version 0.22.1 when using version 0.24.1. This might lead to breaking code or invalid results. Use at your own risk.\n",
      "  warnings.warn(\n",
      "/home/jnw301/.local/lib/python3.8/site-packages/sklearn/base.py:310: UserWarning: Trying to unpickle estimator StandardScaler from version 0.22.1 when using version 0.24.1. This might lead to breaking code or invalid results. Use at your own risk.\n",
      "  warnings.warn(\n"
     ]
    }
   ],
   "source": [
    "with open(TEMP_DATA_PATH + 'experiment_data.p', 'rb') as f:\n",
    "    (\n",
    "        aucs,\n",
    "        clf,\n",
    "        roc_auc,\n",
    "        transformer, \n",
    "        scaler,\n",
    "        secondary_scaler,\n",
    "        feature_sz,\n",
    "        train_sz,\n",
    "        train_idxs,\n",
    "        test_sz,\n",
    "        test_idxs\n",
    "    ) = pickle.load(f)"
   ]
  },
  {
   "cell_type": "code",
   "execution_count": 7,
   "metadata": {},
   "outputs": [],
   "source": [
    "def encode_pos_tags(x_path_1, x_path_2, preprocessed_path, ordered_idxs, tag_2_idx, vector_sz, max_seq_len):\n",
    "    pos_token_ids_1 = np.memmap(x_path_1, dtype='int32', mode='w+', shape=(vector_sz, max_seq_len))\n",
    "    pos_token_ids_2 = np.memmap(x_path_2, dtype='int32', mode='w+', shape=(vector_sz, max_seq_len))\n",
    "    with open(preprocessed_path, 'r') as f:\n",
    "        i = 0\n",
    "        for l in tqdm(f, total=vector_sz):\n",
    "            d = json.loads(l)\n",
    "            doc_1 = merge_entries(d['pair'][0])\n",
    "            for j, t in enumerate(doc_1['pos_tags'][:max_seq_len]):\n",
    "                pos_token_ids_1[ordered_idxs[i], j] = tag_2_idx[t]\n",
    "\n",
    "            doc_2 = merge_entries(d['pair'][1])\n",
    "            for j, t in enumerate(doc_2['pos_tags'][:max_seq_len]):\n",
    "                pos_token_ids_2[ordered_idxs[i], j] = tag_2_idx[t]\n",
    "            i += 1\n",
    "            if i % 1000 == 0:\n",
    "                print(i)\n",
    "    return pos_token_ids_1, pos_token_ids_2"
   ]
  },
  {
   "cell_type": "code",
   "execution_count": 11,
   "metadata": {},
   "outputs": [],
   "source": [
    "tagger = PerceptronTagger()\n",
    "tagset = list(tagger.classes)\n",
    "tag_2_idx = {t:i for i, t in enumerate(tagset)}\n",
    "idx_2_tag = {i:t for i, t in enumerate(tagset)}"
   ]
  },
  {
   "cell_type": "code",
   "execution_count": 8,
   "metadata": {},
   "outputs": [],
   "source": [
    "max_seq_length = 5000"
   ]
  },
  {
   "cell_type": "code",
   "execution_count": null,
   "metadata": {},
   "outputs": [],
   "source": [
    "pos_1_train, pos_2_train = encode_pos_tags(\n",
    "    TEMP_DATA_PATH + 'pos_token_ids_1_train.npy',\n",
    "    TEMP_DATA_PATH + 'pos_token_ids_2_train.npy',\n",
    "    PREPROCESSED_DATA_PATH + 'preprocessed_train.jsonl',\n",
    "    train_idxs,\n",
    "    tag_2_idx,\n",
    "    train_sz,\n",
    "    5000\n",
    ")"
   ]
  },
  {
   "cell_type": "code",
   "execution_count": null,
   "metadata": {
    "scrolled": true
   },
   "outputs": [],
   "source": [
    "pos_1_test, pos_2_test = encode_pos_tags(\n",
    "    TEMP_DATA_PATH + 'pos_token_ids_1_test.npy',\n",
    "    TEMP_DATA_PATH + 'pos_token_ids_2_test.npy',\n",
    "    PREPROCESSED_DATA_PATH + 'preprocessed_test.jsonl',\n",
    "    test_idxs,\n",
    "    tag_2_idx,\n",
    "    test_sz,\n",
    "    5000\n",
    ")"
   ]
  },
  {
   "cell_type": "code",
   "execution_count": 9,
   "metadata": {},
   "outputs": [],
   "source": [
    "train = PANDataset(TEMP_DATA_PATH + 'pos_token_ids_1_train.npy', TEMP_DATA_PATH + 'pos_token_ids_2_train.npy', TEMP_DATA_PATH + 'Y_train.npy', train_sz, max_seq_length, 500)\n",
    "train_loader = torch.utils.data.DataLoader(train, batch_size=128, shuffle=False)\n",
    "\n",
    "test = PANDataset(TEMP_DATA_PATH + 'pos_token_ids_1_test.npy', TEMP_DATA_PATH + 'pos_token_ids_2_test.npy', TEMP_DATA_PATH + 'Y_test.npy', test_sz, max_seq_length, 500)\n",
    "test_loader = torch.utils.data.DataLoader(test, batch_size=128, shuffle=False)"
   ]
  },
  {
   "cell_type": "code",
   "execution_count": 10,
   "metadata": {},
   "outputs": [],
   "source": [
    "class AV_Model(nn.Module):\n",
    "    def __init__(self, vocab_size, embedding_dim, hidden_dim, n_layers, output_dim):\n",
    "        super().__init__()\n",
    "        self.embedding = nn.Embedding(vocab_size,embedding_dim)\n",
    "        self.lstm = nn.LSTM(\n",
    "                        embedding_dim,\n",
    "                        hidden_dim,\n",
    "                        num_layers=n_layers,\n",
    "                        bidirectional=True,\n",
    "#                         dropout = dropout,\n",
    "                        batch_first = True\n",
    "                    )\n",
    "        self.fc_1 = nn.Linear(hidden_dim * 2, output_dim)\n",
    "        self.bn = nn.BatchNorm1d(output_dim)\n",
    "        self.fc = nn.Linear(output_dim, 1)\n",
    "    \n",
    "    def forward_once(self, x):\n",
    "        x = model.embedding(x)\n",
    "        packed_output,(hidden_state,cell_state) = model.lstm(x)\n",
    "        hidden = torch.cat((hidden_state[-2,:,:], hidden_state[-1,:,:]), dim = 1)\n",
    "        output = self.fc_1(hidden)\n",
    "        return output\n",
    "    \n",
    "    def forward(self, x1, x2):\n",
    "        x1 = self.forward_once(x1)\n",
    "        x2 = self.forward_once(x2)\n",
    "        x = self.bn(torch.abs(x1 - x2))\n",
    "        \n",
    "        x = torch.sigmoid(self.fc(x))\n",
    "        \n",
    "        return x"
   ]
  },
  {
   "cell_type": "code",
   "execution_count": null,
   "metadata": {},
   "outputs": [
    {
     "name": "stdout",
     "output_type": "stream",
     "text": [
      "cuda\n"
     ]
    },
    {
     "data": {
      "application/vnd.jupyter.widget-view+json": {
       "model_id": "403aa98b2f82422b9dfe2ec728fbd509",
       "version_major": 2,
       "version_minor": 0
      },
      "text/plain": [
       "  0%|          | 0/1512 [00:00<?, ?it/s]"
      ]
     },
     "metadata": {},
     "output_type": "display_data"
    },
    {
     "name": "stdout",
     "output_type": "stream",
     "text": [
      "Epoch 1 \t Training Loss: 0.6981402509821155 \t Validation Loss: 0.6910806051840462 \t AUC: 0.5212444414675037\n"
     ]
    },
    {
     "data": {
      "application/vnd.jupyter.widget-view+json": {
       "model_id": "743dfe2f1abf44e0b229b0c8bf05a4dc",
       "version_major": 2,
       "version_minor": 0
      },
      "text/plain": [
       "  0%|          | 0/1512 [00:00<?, ?it/s]"
      ]
     },
     "metadata": {},
     "output_type": "display_data"
    },
    {
     "name": "stdout",
     "output_type": "stream",
     "text": [
      "Epoch 2 \t Training Loss: 0.6878536710190395 \t Validation Loss: 0.6902392723259055 \t AUC: 0.5291163356305479\n"
     ]
    },
    {
     "data": {
      "application/vnd.jupyter.widget-view+json": {
       "model_id": "411629182a564ce0af7b7e0d2a75086f",
       "version_major": 2,
       "version_minor": 0
      },
      "text/plain": [
       "  0%|          | 0/1512 [00:00<?, ?it/s]"
      ]
     },
     "metadata": {},
     "output_type": "display_data"
    },
    {
     "name": "stdout",
     "output_type": "stream",
     "text": [
      "Epoch 3 \t Training Loss: 0.6852631868508757 \t Validation Loss: 0.6894856045101064 \t AUC: 0.536819482335605\n"
     ]
    },
    {
     "data": {
      "application/vnd.jupyter.widget-view+json": {
       "model_id": "095276eec92d4f2b8516073b8d1c16f8",
       "version_major": 2,
       "version_minor": 0
      },
      "text/plain": [
       "  0%|          | 0/1512 [00:00<?, ?it/s]"
      ]
     },
     "metadata": {},
     "output_type": "display_data"
    },
    {
     "name": "stdout",
     "output_type": "stream",
     "text": [
      "Epoch 4 \t Training Loss: 0.6812879433313375 \t Validation Loss: 0.6884743247686794 \t AUC: 0.545890511039736\n"
     ]
    },
    {
     "data": {
      "application/vnd.jupyter.widget-view+json": {
       "model_id": "58cbf230393e47bbaca8d2a6efe068d4",
       "version_major": 2,
       "version_minor": 0
      },
      "text/plain": [
       "  0%|          | 0/1512 [00:00<?, ?it/s]"
      ]
     },
     "metadata": {},
     "output_type": "display_data"
    },
    {
     "name": "stdout",
     "output_type": "stream",
     "text": [
      "Epoch 5 \t Training Loss: 0.6728802466045611 \t Validation Loss: 0.6749087733895098 \t AUC: 0.5956327241085838\n"
     ]
    },
    {
     "data": {
      "application/vnd.jupyter.widget-view+json": {
       "model_id": "9f3a1fb9d90d4d8198079c29c500ba56",
       "version_major": 2,
       "version_minor": 0
      },
      "text/plain": [
       "  0%|          | 0/1512 [00:00<?, ?it/s]"
      ]
     },
     "metadata": {},
     "output_type": "display_data"
    },
    {
     "name": "stdout",
     "output_type": "stream",
     "text": [
      "Epoch 6 \t Training Loss: 0.656722113017052 \t Validation Loss: 0.6501221320186502 \t AUC: 0.6528589989221726\n"
     ]
    },
    {
     "data": {
      "application/vnd.jupyter.widget-view+json": {
       "model_id": "99c42e90a7904be3b4e51286c16a1b61",
       "version_major": 2,
       "version_minor": 0
      },
      "text/plain": [
       "  0%|          | 0/1512 [00:00<?, ?it/s]"
      ]
     },
     "metadata": {},
     "output_type": "display_data"
    },
    {
     "name": "stdout",
     "output_type": "stream",
     "text": [
      "Epoch 7 \t Training Loss: 0.6384621273194041 \t Validation Loss: 0.6401110087839564 \t AUC: 0.6732263024845839\n"
     ]
    },
    {
     "data": {
      "application/vnd.jupyter.widget-view+json": {
       "model_id": "316a9c05e8a549f5be422ada9dc3cc83",
       "version_major": 2,
       "version_minor": 0
      },
      "text/plain": [
       "  0%|          | 0/1512 [00:00<?, ?it/s]"
      ]
     },
     "metadata": {},
     "output_type": "display_data"
    },
    {
     "name": "stdout",
     "output_type": "stream",
     "text": [
      "Epoch 8 \t Training Loss: 0.6275715434519702 \t Validation Loss: 0.6366173741226078 \t AUC: 0.6747964903761644\n"
     ]
    },
    {
     "data": {
      "application/vnd.jupyter.widget-view+json": {
       "model_id": "9707f0113183419785b22bb603ce5f76",
       "version_major": 2,
       "version_minor": 0
      },
      "text/plain": [
       "  0%|          | 0/1512 [00:00<?, ?it/s]"
      ]
     },
     "metadata": {},
     "output_type": "display_data"
    },
    {
     "name": "stdout",
     "output_type": "stream",
     "text": [
      "Epoch 9 \t Training Loss: 0.6170649238758616 \t Validation Loss: 0.6335888532878085 \t AUC: 0.6809745000421844\n"
     ]
    },
    {
     "data": {
      "application/vnd.jupyter.widget-view+json": {
       "model_id": "83e42220ebca4a25b4c083858d321061",
       "version_major": 2,
       "version_minor": 0
      },
      "text/plain": [
       "  0%|          | 0/1512 [00:00<?, ?it/s]"
      ]
     },
     "metadata": {},
     "output_type": "display_data"
    },
    {
     "name": "stdout",
     "output_type": "stream",
     "text": [
      "Epoch 10 \t Training Loss: 0.6101169380797911 \t Validation Loss: 0.632792374924081 \t AUC: 0.6852815324565338\n"
     ]
    },
    {
     "data": {
      "application/vnd.jupyter.widget-view+json": {
       "model_id": "b0902f4473e24636a5d705e7ea519ae2",
       "version_major": 2,
       "version_minor": 0
      },
      "text/plain": [
       "  0%|          | 0/1512 [00:00<?, ?it/s]"
      ]
     },
     "metadata": {},
     "output_type": "display_data"
    },
    {
     "name": "stdout",
     "output_type": "stream",
     "text": [
      "Epoch 11 \t Training Loss: 0.5999362383964201 \t Validation Loss: 0.6296385293259822 \t AUC: 0.690382263259901\n"
     ]
    },
    {
     "data": {
      "application/vnd.jupyter.widget-view+json": {
       "model_id": "3b21bfc167284eceab6c388b89e4f908",
       "version_major": 2,
       "version_minor": 0
      },
      "text/plain": [
       "  0%|          | 0/1512 [00:00<?, ?it/s]"
      ]
     },
     "metadata": {},
     "output_type": "display_data"
    },
    {
     "name": "stdout",
     "output_type": "stream",
     "text": [
      "Epoch 12 \t Training Loss: 0.5889218688287117 \t Validation Loss: 0.6304714492814217 \t AUC: 0.692130949335386\n"
     ]
    },
    {
     "data": {
      "application/vnd.jupyter.widget-view+json": {
       "model_id": "d865eb6efa484000bbb7b9eb44219ebf",
       "version_major": 2,
       "version_minor": 0
      },
      "text/plain": [
       "  0%|          | 0/1512 [00:00<?, ?it/s]"
      ]
     },
     "metadata": {},
     "output_type": "display_data"
    },
    {
     "name": "stdout",
     "output_type": "stream",
     "text": [
      "Epoch 13 \t Training Loss: 0.577026613253765 \t Validation Loss: 0.6306717934177 \t AUC: 0.6949424373359026\n"
     ]
    },
    {
     "data": {
      "application/vnd.jupyter.widget-view+json": {
       "model_id": "babdd202c4244070a4ba3d0ad82dddaf",
       "version_major": 2,
       "version_minor": 0
      },
      "text/plain": [
       "  0%|          | 0/1512 [00:00<?, ?it/s]"
      ]
     },
     "metadata": {},
     "output_type": "display_data"
    },
    {
     "name": "stdout",
     "output_type": "stream",
     "text": [
      "Epoch 14 \t Training Loss: 0.5640179267320683 \t Validation Loss: 0.6318493320863816 \t AUC: 0.6979812243761582\n"
     ]
    },
    {
     "data": {
      "application/vnd.jupyter.widget-view+json": {
       "model_id": "95358758d5de409ca421d0dae9850909",
       "version_major": 2,
       "version_minor": 0
      },
      "text/plain": [
       "  0%|          | 0/1512 [00:00<?, ?it/s]"
      ]
     },
     "metadata": {},
     "output_type": "display_data"
    },
    {
     "name": "stdout",
     "output_type": "stream",
     "text": [
      "Epoch 15 \t Training Loss: 0.5501298513953332 \t Validation Loss: 0.6347608764346416 \t AUC: 0.6995602528422113\n"
     ]
    },
    {
     "data": {
      "application/vnd.jupyter.widget-view+json": {
       "model_id": "09ab5078be954426a35f040d693fcaa9",
       "version_major": 2,
       "version_minor": 0
      },
      "text/plain": [
       "  0%|          | 0/1512 [00:00<?, ?it/s]"
      ]
     },
     "metadata": {},
     "output_type": "display_data"
    },
    {
     "name": "stdout",
     "output_type": "stream",
     "text": [
      "Epoch 16 \t Training Loss: 0.5356508923507242 \t Validation Loss: 0.6401454150769714 \t AUC: 0.6995961146025205\n"
     ]
    },
    {
     "data": {
      "application/vnd.jupyter.widget-view+json": {
       "model_id": "fc16a7c98b92436d969a3ebc33b821df",
       "version_major": 2,
       "version_minor": 0
      },
      "text/plain": [
       "  0%|          | 0/1512 [00:00<?, ?it/s]"
      ]
     },
     "metadata": {},
     "output_type": "display_data"
    },
    {
     "name": "stdout",
     "output_type": "stream",
     "text": [
      "Epoch 17 \t Training Loss: 0.5215048656537735 \t Validation Loss: 0.6478551219852405 \t AUC: 0.6966178740046862\n"
     ]
    },
    {
     "data": {
      "application/vnd.jupyter.widget-view+json": {
       "model_id": "e1bdb3057a214ab4b9070adf5c929ad1",
       "version_major": 2,
       "version_minor": 0
      },
      "text/plain": [
       "  0%|          | 0/1512 [00:00<?, ?it/s]"
      ]
     },
     "metadata": {},
     "output_type": "display_data"
    },
    {
     "name": "stdout",
     "output_type": "stream",
     "text": [
      "Epoch 18 \t Training Loss: 0.5071933896098503 \t Validation Loss: 0.6559922538011941 \t AUC: 0.6969645681755058\n"
     ]
    },
    {
     "data": {
      "application/vnd.jupyter.widget-view+json": {
       "model_id": "211a9d44ea67404f99c0e2c7706585f8",
       "version_major": 2,
       "version_minor": 0
      },
      "text/plain": [
       "  0%|          | 0/1512 [00:00<?, ?it/s]"
      ]
     },
     "metadata": {},
     "output_type": "display_data"
    },
    {
     "name": "stdout",
     "output_type": "stream",
     "text": [
      "Epoch 19 \t Training Loss: 0.4926854900858074 \t Validation Loss: 0.6665367127952635 \t AUC: 0.6958589135108112\n"
     ]
    },
    {
     "data": {
      "application/vnd.jupyter.widget-view+json": {
       "model_id": "64b91dcda60b4d4885d9fb8224b18012",
       "version_major": 2,
       "version_minor": 0
      },
      "text/plain": [
       "  0%|          | 0/1512 [00:00<?, ?it/s]"
      ]
     },
     "metadata": {},
     "output_type": "display_data"
    }
   ],
   "source": [
    "model = AV_Model(len(tag_2_idx), 256, 128, 2, 32)\n",
    "device = torch.device('cuda' if torch.cuda.is_available() else 'cpu')\n",
    "print(device)\n",
    "criterion = nn.BCELoss()\n",
    "optimizer = torch.optim.Adam(model.parameters(), lr=0.0001)\n",
    "#initialize empty list to track batch losses\n",
    "train_losses = []\n",
    "validation_losses = []\n",
    "aucs = []\n",
    "model.to(device)\n",
    "\n",
    "for epoch in range(40):\n",
    "    model.train()\n",
    "    train_loss = 0.0\n",
    "    for x1, x2, y in tqdm(train_loader):\n",
    "        x1, x2, y = x1.to(device), x2.to(device), y.to(device)\n",
    "        y = y.reshape(-1, 1)\n",
    "        optimizer.zero_grad()\n",
    "        \n",
    "        out = model(x1, x2)\n",
    "        loss = criterion(out, y)\n",
    "        \n",
    "        train_loss += loss.item()\n",
    "        \n",
    "        loss.backward()\n",
    "        optimizer.step()\n",
    "        \n",
    "    valid_loss = 0.0\n",
    "    model.eval()     # Optional when not using Model Specific layer\n",
    "    \n",
    "    preds = []\n",
    "    labels = []\n",
    "    for x1, x2, y in test_loader:\n",
    "        x1, x2, y = x1.to(device), x2.to(device), y.to(device)\n",
    "        y = y.reshape(-1, 1)\n",
    "        out = model(x1, x2)\n",
    "        loss = criterion(out, y)\n",
    "        valid_loss += loss.item()\n",
    "        \n",
    "        out = out.reshape(-1).tolist()\n",
    "        y = y.reshape(-1).tolist()\n",
    "        preds.extend(out)\n",
    "        labels.extend(y)\n",
    "    fpr, tpr, thresh = roc_curve(labels, preds)\n",
    "    roc_auc = auc(fpr, tpr)\n",
    "    aucs.append(roc_auc)\n",
    "    train_losses.append(train_loss / len(train_loader))\n",
    "    validation_losses.append(valid_loss / len(test_loader))\n",
    "    print(f'Epoch {epoch+1} \\t Training Loss: {train_loss / len(train_loader)} \\t Validation Loss: {valid_loss / len(test_loader)} \\t AUC: {roc_auc}')\n",
    "    torch.save(model, TEMP_DATA_PATH + 'pytorch_model.pt')"
   ]
  },
  {
   "cell_type": "code",
   "execution_count": 13,
   "metadata": {},
   "outputs": [
    {
     "data": {
      "image/png": "[encoded data removed]",
      "text/plain": [
       "<Figure size 432x288 with 1 Axes>"
      ]
     },
     "metadata": {
      "needs_background": "light"
     },
     "output_type": "display_data"
    }
   ],
   "source": [
    "plt.plot(validation_losses, label='Validation Loss')\n",
    "plt.plot(train_losses, label='Training Loss')\n",
    "plt.legend(loc='best')\n",
    "plt.tight_layout()\n",
    "plt.show()\n",
    "# LR = 0.001, model = AV_Model(len(tag_2_idx), 32, 16, 2, 8), max_length=500"
   ]
  },
  {
   "cell_type": "code",
   "execution_count": 23,
   "metadata": {},
   "outputs": [
    {
     "data": {
      "image/png": "[encoded data removed]",
      "text/plain": [
       "<Figure size 432x288 with 1 Axes>"
      ]
     },
     "metadata": {
      "needs_background": "light"
     },
     "output_type": "display_data"
    }
   ],
   "source": [
    "plt.plot(validation_losses, label='Validation Loss')\n",
    "plt.plot(train_losses, label='Training Loss')\n",
    "plt.legend(loc='best')\n",
    "plt.tight_layout()\n",
    "plt.show()\n",
    "# LR = 0.001, model = AV_Model(len(tag_2_idx), 32, 16, 1, 8), max_length=500"
   ]
  },
  {
   "cell_type": "code",
   "execution_count": 18,
   "metadata": {},
   "outputs": [
    {
     "data": {
      "image/png": "[encoded data removed]",
      "text/plain": [
       "<Figure size 432x288 with 1 Axes>"
      ]
     },
     "metadata": {
      "needs_background": "light"
     },
     "output_type": "display_data"
    }
   ],
   "source": [
    "plt.plot(validation_losses, label='Validation Loss')\n",
    "plt.plot(train_losses, label='Training Loss')\n",
    "plt.legend(loc='best')\n",
    "plt.tight_layout()\n",
    "plt.show()\n",
    "# LR = 0.001, model = AV_Model(len(tag_2_idx), 32, 16, 1, 8)"
   ]
  },
  {
   "cell_type": "code",
   "execution_count": 21,
   "metadata": {},
   "outputs": [
    {
     "data": {
      "image/png": "[encoded data removed]",
      "text/plain": [
       "<Figure size 432x288 with 1 Axes>"
      ]
     },
     "metadata": {
      "needs_background": "light"
     },
     "output_type": "display_data"
    }
   ],
   "source": [
    "plt.plot(validation_losses, label='Validation Loss')\n",
    "plt.plot(train_losses, label='Training Loss')\n",
    "plt.legend(loc='best')\n",
    "plt.tight_layout()\n",
    "plt.show()\n",
    "# LR = 0.0001\n"
   ]
  },
  {
   "cell_type": "code",
   "execution_count": 15,
   "metadata": {},
   "outputs": [
    {
     "data": {
      "image/png": "[encoded data removed]",
      "text/plain": [
       "<Figure size 432x288 with 1 Axes>"
      ]
     },
     "metadata": {
      "needs_background": "light"
     },
     "output_type": "display_data"
    }
   ],
   "source": [
    "plt.plot(validation_losses, label='Validation Loss')\n",
    "plt.plot(train_losses, label='Training Loss')\n",
    "plt.legend(loc='best')\n",
    "plt.tight_layout()\n",
    "plt.show()\n",
    "# LR = 0.00001\n"
   ]
  },
  {
   "cell_type": "code",
   "execution_count": 26,
   "metadata": {},
   "outputs": [
    {
     "data": {
      "image/png": "[encoded data removed]",
      "text/plain": [
       "<Figure size 432x288 with 1 Axes>"
      ]
     },
     "metadata": {
      "needs_background": "light"
     },
     "output_type": "display_data"
    }
   ],
   "source": [
    "plt.plot(aucs)\n",
    "plt.show()\n",
    "# LR = 0.00001"
   ]
  },
  {
   "cell_type": "code",
   "execution_count": 11,
   "metadata": {},
   "outputs": [
    {
     "data": {
      "image/png": "[encoded data removed]",
      "text/plain": [
       "<Figure size 432x288 with 1 Axes>"
      ]
     },
     "metadata": {
      "needs_background": "light"
     },
     "output_type": "display_data"
    }
   ],
   "source": [
    "plt.plot(validation_losses, label='Validation Loss')\n",
    "plt.plot(train_losses, label='Training Loss')\n",
    "plt.legend(loc='best')\n",
    "plt.tight_layout()\n",
    "plt.show()\n",
    "# LR = 0.001\n"
   ]
  },
  {
   "cell_type": "code",
   "execution_count": null,
   "metadata": {},
   "outputs": [],
   "source": [
    "model.eval()\n",
    "preds = []\n",
    "labels = []\n",
    "for x1, x2, y in test_loader:\n",
    "    x1, x2, y = x1.to(device), x2.to(device), y.to(device)\n",
    "    out = model(x1, x2).reshape(-1).tolist()\n",
    "    y = y.reshape(-1).tolist()\n",
    "    preds.extend(out)\n",
    "    labels.extend(y)"
   ]
  },
  {
   "cell_type": "code",
   "execution_count": 26,
   "metadata": {},
   "outputs": [
    {
     "name": "stdout",
     "output_type": "stream",
     "text": [
      "AUC: 0.9980857460054038\n"
     ]
    }
   ],
   "source": [
    "fpr, tpr, thresh = roc_curve(labels, preds)\n",
    "roc_auc = auc(fpr, tpr)\n",
    "print('AUC:', roc_auc)"
   ]
  },
  {
   "cell_type": "code",
   "execution_count": 33,
   "metadata": {},
   "outputs": [],
   "source": [
    "torch.save(model, TEMP_DATA_PATH + 'pytorch_model.pt')"
   ]
  }
 ],
 "metadata": {
  "kernelspec": {
   "display_name": "Python 3",
   "language": "python",
   "name": "python3"
  },
  "language_info": {
   "codemirror_mode": {
    "name": "ipython",
    "version": 3
   },
   "file_extension": ".py",
   "mimetype": "text/x-python",
   "name": "python",
   "nbconvert_exporter": "python",
   "pygments_lexer": "ipython3",
   "version": "3.8.6"
  }
 },
 "nbformat": 4,
 "nbformat_minor": 4
}
