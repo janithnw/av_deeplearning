{
 "cells": [
  {
   "cell_type": "code",
   "execution_count": 1,
   "metadata": {},
   "outputs": [],
   "source": [
    "import pickle\n",
    "import numpy as np\n",
    "from tqdm.notebook import trange, tqdm\n",
    "import json\n",
    "from sklearn.metrics import roc_curve, auc\n",
    "from sklearn.manifold import TSNE\n",
    "\n",
    "%matplotlib inline\n",
    "import matplotlib.pyplot as plt\n"
   ]
  },
  {
   "cell_type": "code",
   "execution_count": 2,
   "metadata": {},
   "outputs": [],
   "source": [
    "import torch\n",
    "import torch.nn as nn\n",
    "import torch.nn.functional as F"
   ]
  },
  {
   "cell_type": "code",
   "execution_count": 3,
   "metadata": {},
   "outputs": [],
   "source": [
    "COMPUTED_DATA_PATH = 'temp_data/reddit/preprocessed/'\n",
    "TEMP_DATA_PATH = 'temp_data/reddit/unchunked/'"
   ]
  },
  {
   "cell_type": "code",
   "execution_count": 5,
   "metadata": {},
   "outputs": [],
   "source": [
    "class AV_Model(nn.Module):\n",
    "    def __init__(self, input_sz, hidden_sz):\n",
    "        super().__init__()\n",
    "        self.fc_1 = nn.Sequential(\n",
    "            nn.Linear(input_sz, hidden_sz),\n",
    "            nn.Dropout(p=0.5)\n",
    "        )\n",
    "        self.fc_2 = nn.Sequential(\n",
    "            nn.Linear(hidden_sz, 1),\n",
    "            nn.Dropout(p=0.5)\n",
    "        )\n",
    "    \n",
    "    def forward_once(self, x):\n",
    "        x = F.relu(self.fc_1(x))\n",
    "        return x\n",
    "    \n",
    "    def forward(self, x1, x2):\n",
    "        x1 = self.forward_once(x1)\n",
    "        x2 = self.forward_once(x2)\n",
    "        x = torch.abs(x1 - x2)\n",
    "        x = torch.sigmoid(self.fc_2(x))\n",
    "        \n",
    "        return x"
   ]
  },
  {
   "cell_type": "code",
   "execution_count": 6,
   "metadata": {},
   "outputs": [],
   "source": [
    "class PANDataset(torch.utils.data.Dataset):\n",
    "    def __init__(self, x_1_path, x_2_path, y_path, vector_sz, feature_sz):\n",
    "        self.XX_1 = np.memmap(x_1_path, dtype='float32', mode='r', shape=(vector_sz, feature_sz))\n",
    "        self.XX_2 = np.memmap(x_2_path, dtype='float32', mode='r', shape=(vector_sz, feature_sz))\n",
    "        \n",
    "        self.Y = np.memmap(y_path, dtype='int32', mode='r', shape=(vector_sz))\n",
    "\n",
    "\n",
    "    def __getitem__(self, index):\n",
    "        x_1 = np.array(self.XX_1[index, :])\n",
    "        x_2 = np.array(self.XX_2[index, :])\n",
    "        return x_1, x_2, np.array(self.Y[index]).astype('float32')\n",
    "\n",
    "    def __len__(self):\n",
    "        return len(self.Y)\n",
    "    "
   ]
  },
  {
   "cell_type": "code",
   "execution_count": 7,
   "metadata": {},
   "outputs": [],
   "source": [
    "DATA_DIR = 'data/pan/'\n",
    "GROUND_TRUTH_PATH = DATA_DIR + 'pan20-authorship-verification-training-large-truth.jsonl'\n",
    "PREPROCESSED_DATA_PATH = '/scratch/jnw301/av_public/temp_data/pan/'\n",
    "# TEMP_DATA_PATH = 'temp_data/pan/'\n",
    "TEMP_DATA_PATH = '/scratch/jnw301/av_public/temp_data/pan/'"
   ]
  },
  {
   "cell_type": "code",
   "execution_count": 8,
   "metadata": {},
   "outputs": [
    {
     "name": "stderr",
     "output_type": "stream",
     "text": [
      "/home/jnw301/.local/lib/python3.8/site-packages/sklearn/base.py:310: UserWarning: Trying to unpickle estimator SGDClassifier from version 0.22.1 when using version 0.24.1. This might lead to breaking code or invalid results. Use at your own risk.\n",
      "  warnings.warn(\n",
      "/home/jnw301/.local/lib/python3.8/site-packages/sklearn/base.py:310: UserWarning: Trying to unpickle estimator TfidfTransformer from version 0.22.1 when using version 0.24.1. This might lead to breaking code or invalid results. Use at your own risk.\n",
      "  warnings.warn(\n",
      "/home/jnw301/.local/lib/python3.8/site-packages/sklearn/base.py:310: UserWarning: Trying to unpickle estimator TfidfVectorizer from version 0.22.1 when using version 0.24.1. This might lead to breaking code or invalid results. Use at your own risk.\n",
      "  warnings.warn(\n",
      "/home/jnw301/.local/lib/python3.8/site-packages/sklearn/base.py:310: UserWarning: Trying to unpickle estimator FeatureUnion from version 0.22.1 when using version 0.24.1. This might lead to breaking code or invalid results. Use at your own risk.\n",
      "  warnings.warn(\n",
      "/home/jnw301/.local/lib/python3.8/site-packages/sklearn/base.py:310: UserWarning: Trying to unpickle estimator StandardScaler from version 0.22.1 when using version 0.24.1. This might lead to breaking code or invalid results. Use at your own risk.\n",
      "  warnings.warn(\n"
     ]
    }
   ],
   "source": [
    "with open(TEMP_DATA_PATH + 'experiment_data.p', 'rb') as f:\n",
    "    (\n",
    "        aucs,\n",
    "        clf,\n",
    "        roc_auc,\n",
    "        transformer, \n",
    "        scaler,\n",
    "        secondary_scaler,\n",
    "        feature_sz,\n",
    "        train_sz,\n",
    "        train_idxs,\n",
    "        test_sz,\n",
    "        test_idxs\n",
    "    ) = pickle.load(f)"
   ]
  },
  {
   "cell_type": "code",
   "execution_count": 10,
   "metadata": {},
   "outputs": [],
   "source": [
    "model = torch.load(TEMP_DATA_PATH + 'pytorch_model.pt')\n",
    "# model.to(device)"
   ]
  },
  {
   "cell_type": "code",
   "execution_count": 14,
   "metadata": {},
   "outputs": [],
   "source": [
    "train = PANDataset(TEMP_DATA_PATH + 'vectorized_XX_1_train.npy', TEMP_DATA_PATH + 'vectorized_XX_2_train.npy', TEMP_DATA_PATH + 'Y_train.npy', train_sz, feature_sz)\n",
    "train_loader = torch.utils.data.DataLoader(train, batch_size=128, shuffle=False)\n",
    "\n",
    "test = PANDataset(TEMP_DATA_PATH + 'vectorized_XX_1_train.npy', TEMP_DATA_PATH + 'vectorized_XX_2_train.npy', TEMP_DATA_PATH + 'Y_train.npy', test_sz, feature_sz)\n",
    "test_loader = torch.utils.data.DataLoader(test, batch_size=4096, shuffle=False)"
   ]
  },
  {
   "cell_type": "code",
   "execution_count": 15,
   "metadata": {},
   "outputs": [],
   "source": [
    "for x1, x2, y in test_loader:\n",
    "#     x1, x2, y = x1.to(device), x2.to(device), y.to(device)\n",
    "    x1_out = model.forward_once(x1)\n",
    "    x2_out = model.forward_once(x2)\n",
    "    xx = model.fc_2(torch.abs(x1_out - x2_out)).cpu().detach().numpy()\n",
    "    x1_out = x1_out.cpu().detach().numpy()\n",
    "    x2_out = x2_out.cpu().detach().numpy()\n",
    "    break"
   ]
  },
  {
   "cell_type": "code",
   "execution_count": 23,
   "metadata": {},
   "outputs": [
    {
     "name": "stdout",
     "output_type": "stream",
     "text": [
      "[t-SNE] Computing 91 nearest neighbors...\n",
      "[t-SNE] Indexed 4096 samples in 0.001s...\n",
      "[t-SNE] Computed neighbors for 4096 samples in 0.417s...\n",
      "[t-SNE] Computed conditional probabilities for sample 1000 / 4096\n",
      "[t-SNE] Computed conditional probabilities for sample 2000 / 4096\n",
      "[t-SNE] Computed conditional probabilities for sample 3000 / 4096\n",
      "[t-SNE] Computed conditional probabilities for sample 4000 / 4096\n",
      "[t-SNE] Computed conditional probabilities for sample 4096 / 4096\n",
      "[t-SNE] Mean sigma: 8.913115\n",
      "[t-SNE] KL divergence after 250 iterations with early exaggeration: 90.218407\n",
      "[t-SNE] KL divergence after 4000 iterations: 2.918640\n"
     ]
    }
   ],
   "source": [
    "tsne = TSNE(n_components=2, verbose=1, n_iter=4000)\n",
    "# tsne_results = tsne.fit_transform(np.vstack([x1_out, x2_out]))\n",
    "# tsne_results = tsne.fit_transform(xx)\n",
    "tsne_results = tsne.fit_transform(np.abs(x1_out - x2_out))"
   ]
  },
  {
   "cell_type": "code",
   "execution_count": 46,
   "metadata": {},
   "outputs": [],
   "source": [
    "x1_tsne = tsne_results[:len(y), :]\n",
    "x2_tsne = tsne_results[len(y):, :]"
   ]
  },
  {
   "cell_type": "code",
   "execution_count": 47,
   "metadata": {},
   "outputs": [
    {
     "data": {
      "text/plain": [
       "((8192, 2), (4096, 2), 4096)"
      ]
     },
     "execution_count": 47,
     "metadata": {},
     "output_type": "execute_result"
    }
   ],
   "source": [
    "tsne_results.shape, x1_tsne.shape, len(y)"
   ]
  },
  {
   "cell_type": "code",
   "execution_count": 25,
   "metadata": {},
   "outputs": [
    {
     "ename": "AttributeError",
     "evalue": "'numpy.ndarray' object has no attribute 'numpy'",
     "output_type": "error",
     "traceback": [
      "\u001b[0;31m---------------------------------------------------------------------------\u001b[0m",
      "\u001b[0;31mAttributeError\u001b[0m                            Traceback (most recent call last)",
      "\u001b[0;32m<ipython-input-25-f16ef6fd0f24>\u001b[0m in \u001b[0;36m<module>\u001b[0;34m\u001b[0m\n\u001b[0;32m----> 1\u001b[0;31m \u001b[0my\u001b[0m \u001b[0;34m=\u001b[0m \u001b[0my\u001b[0m\u001b[0;34m.\u001b[0m\u001b[0mnumpy\u001b[0m\u001b[0;34m(\u001b[0m\u001b[0;34m)\u001b[0m\u001b[0;34m\u001b[0m\u001b[0;34m\u001b[0m\u001b[0m\n\u001b[0m",
      "\u001b[0;31mAttributeError\u001b[0m: 'numpy.ndarray' object has no attribute 'numpy'"
     ]
    }
   ],
   "source": [
    "y = y.numpy()"
   ]
  },
  {
   "cell_type": "code",
   "execution_count": 26,
   "metadata": {},
   "outputs": [
    {
     "data": {
      "text/plain": [
       "<matplotlib.collections.PathCollection at 0x14d52d39af40>"
      ]
     },
     "execution_count": 26,
     "metadata": {},
     "output_type": "execute_result"
    },
    {
     "data": {
      "image/png": "[encoded data removed]",
      "text/plain": [
       "<Figure size 432x288 with 1 Axes>"
      ]
     },
     "metadata": {
      "needs_background": "light"
     },
     "output_type": "display_data"
    }
   ],
   "source": [
    "plt.scatter(tsne_results[y==0, 0], tsne_results[y==0, 1], alpha=0.5)\n",
    "plt.scatter(tsne_results[y==1, 0], tsne_results[y==1, 1], alpha=0.5)"
   ]
  },
  {
   "cell_type": "code",
   "execution_count": 115,
   "metadata": {},
   "outputs": [],
   "source": [
    "model.eval()\n",
    "preds = []\n",
    "labels = []\n",
    "for x1, x2, y in test_loader:\n",
    "    out = model(x1, x2).reshape(-1).tolist()\n",
    "    y = y.reshape(-1).tolist()\n",
    "    preds.extend(out)\n",
    "    labels.extend(y)"
   ]
  },
  {
   "cell_type": "code",
   "execution_count": 116,
   "metadata": {},
   "outputs": [
    {
     "name": "stdout",
     "output_type": "stream",
     "text": [
      "AUC: 0.97445313162784\n"
     ]
    }
   ],
   "source": [
    "fpr, tpr, thresh = roc_curve(labels, preds)\n",
    "roc_auc = auc(fpr, tpr)\n",
    "print('AUC:', roc_auc)"
   ]
  },
  {
   "cell_type": "code",
   "execution_count": 117,
   "metadata": {},
   "outputs": [],
   "source": [
    "torch.save(model, TEMP_DATA_PATH + 'pytorch_model.pt')"
   ]
  },
  {
   "cell_type": "code",
   "execution_count": 26,
   "metadata": {},
   "outputs": [
    {
     "data": {
      "text/plain": [
       "torch.Size([64, 18373])"
      ]
     },
     "execution_count": 26,
     "metadata": {},
     "output_type": "execute_result"
    }
   ],
   "source": [
    "x1.shape"
   ]
  }
 ],
 "metadata": {
  "kernelspec": {
   "display_name": "Python 3",
   "language": "python",
   "name": "python3"
  },
  "language_info": {
   "codemirror_mode": {
    "name": "ipython",
    "version": 3
   },
   "file_extension": ".py",
   "mimetype": "text/x-python",
   "name": "python",
   "nbconvert_exporter": "python",
   "pygments_lexer": "ipython3",
   "version": "3.8.6"
  }
 },
 "nbformat": 4,
 "nbformat_minor": 4
}
